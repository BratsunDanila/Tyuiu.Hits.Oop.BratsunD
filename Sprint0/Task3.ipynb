{
 "cells": [
  {
   "cell_type": "markdown",
   "metadata": {},
   "source": [
    "<h1 style=\"color:DodgerBlue\">Индивидальный проект</h1>"
   ]
  },
  {
   "cell_type": "markdown",
   "metadata": {},
   "source": [
    "<h2 style=\"color:DodgerBlue\">Название проекта:</h2>\n",
    "\n",
    "----\n",
    "\n",
    "### Вариант задания 3\n"
   ]
  },
  {
   "cell_type": "markdown",
   "metadata": {},
   "source": [
    "Описание задачи:\n",
    "\n",
    "Создать базовый класс Employee в C#, который будет представлять информацию о \n",
    "сотрудниках компании. На основе этого класса разработать 2-3 производных \n",
    "класса, демонстрирующих принципы наследования и полиморфизма. В каждом из \n",
    "классов должны быть реализованы новые атрибуты и методы, а также \n",
    "переопределены некоторые методы базового класса для демонстрации \n",
    "полиморфизма.\n",
    "Требования к базовому классу Employee:\n",
    "• Атрибуты: Имя (Name), Возраст (Age), Зарплата (Salary).\n",
    "• Методы:\n",
    "o GetInfo(): метод для получения информации о сотруднике в виде \n",
    "строки.\n",
    "o Work(): метод для вывода сообщения о выполнении рабочих \n",
    "обязанностей.\n",
    "o TakeVacation(): метод для вывода сообщения о взятии отпуска.\n",
    "Требования к производным классам:\n",
    "1. Менеджер (Manager): Должен содержать дополнительные атрибуты, такие \n",
    "как Количество подчиненных (SubordinatesCount). Метод Work() должен быть \n",
    "переопределен для добавления информации о управлении командой.\n",
    "2. Разработчик (Developer): Должен содержать дополнительные атрибуты, \n",
    "такие как Специализация (Specialization). Метод TakeVacation() должен быть \n",
    "переопределен для добавления информации о необходимости согласования \n",
    "отпуска с проектными сроками.\n",
    "3. Дизайнер (Designer) (если требуется третий класс): Должен содержать \n",
    "дополнительные атрибуты, такие как Стиль дизайна (DesignStyle). \n",
    "Метод Work() должен быть переопределен для добавления информации о \n",
    "работе над дизайн-проектами.\n",
    "\n"
   ]
  },
  {
   "cell_type": "markdown",
   "metadata": {},
   "source": [
    "<h2 style=\"color:DodgerBlue\">Реализация:</h2>\n",
    "\n",
    "----"
   ]
  },
  {
   "cell_type": "code",
   "execution_count": 2,
   "metadata": {
    "dotnet_interactive": {
     "language": "csharp"
    },
    "polyglot_notebook": {
     "kernelName": "csharp"
    }
   },
   "outputs": [
    {
     "name": "stdout",
     "output_type": "stream",
     "text": [
      "Имя: Иван, Возраст: 34, Зарплата: 250000 рублей, Количество подчиненных: 30\n",
      "Менеджер Иван управляет командой\n",
      "Имя: Василий, Возраст: 27, Зарплата: 120000 рублей, Специализация: Back-End\n",
      "Разработчик Василий взял отпуск, его необходимо согласовать с проектными сроками!!!\n",
      "Имя: Ксения, Возраст: 25, Зарплата: 150000 рублей, Стиль дизайна: Стиль Аниме\n",
      "Дизайнер Ксения работает над дизайн-проектом №1\n"
     ]
    }
   ],
   "source": [
    "public class Employee\n",
    "{\n",
    "    public string Name;\n",
    "    public int Age;\n",
    "    public int Salary;\n",
    "\n",
    "    public Employee(string name, int age, int salary)\n",
    "    {\n",
    "        Name = name;\n",
    "        Age = age;\n",
    "        Salary = salary;\n",
    "    }\n",
    "\n",
    "    public virtual string GetInfo()\n",
    "    {\n",
    "        return $\"Имя: {Name}, Возраст: {Age}, Зарплата: {Salary} рублей\";\n",
    "    }\n",
    "\n",
    "    public virtual void Work()\n",
    "    {\n",
    "        Console.WriteLine($\"Сотрудник {Name} работает\");\n",
    "    }\n",
    "\n",
    "    public virtual void TakeVacation()\n",
    "    {\n",
    "        Console.WriteLine($\"Сотрудник {Name} взял отпуск\");\n",
    "    }\n",
    "\n",
    "     public virtual void Display()\n",
    "    {\n",
    "        Console.WriteLine(GetInfo());\n",
    "    }\n",
    "\n",
    "}\n",
    "\n",
    "public class Manager : Employee\n",
    "{\n",
    "    public int SubordinatesCount { get; set; }\n",
    "\n",
    "    public Manager(string name, int age, int salary, int subordinatescount) : base (name, age, salary)\n",
    "    {\n",
    "        SubordinatesCount = subordinatescount;\n",
    "    }\n",
    "\n",
    "    public override void Work()\n",
    "    {\n",
    "        Console.WriteLine($\"Менеджер {Name} управляет командой\");\n",
    "    }\n",
    "\n",
    "    public override void Display()\n",
    "    {\n",
    "        Console.WriteLine($\"{GetInfo()}, Количество подчиненных: {SubordinatesCount}\");\n",
    "    }\n",
    "\n",
    "}\n",
    "\n",
    "public class Developer : Employee\n",
    "{\n",
    "    public string Specialization { get; set; }\n",
    "\n",
    "    public Developer(string name, int age, int salary, string specialization) : base (name, age, salary)\n",
    "    {\n",
    "        Specialization = specialization;\n",
    "    }\n",
    "\n",
    "    public override void TakeVacation()\n",
    "    {\n",
    "        Console.WriteLine($\"Разработчик {Name} взял отпуск, его необходимо согласовать с проектными сроками!!!\");\n",
    "    }\n",
    "\n",
    "    public override void Display()\n",
    "    {\n",
    "        Console.WriteLine($\"{GetInfo()}, Специализация: {Specialization}\");\n",
    "    }\n",
    "\n",
    "}\n",
    "\n",
    "public class Designer : Employee\n",
    "{\n",
    "    public string DesignStyle { get; set; }\n",
    "\n",
    "    public Designer(string name, int age, int salary, string designstyle) : base (name, age, salary)\n",
    "    {\n",
    "        DesignStyle = designstyle;\n",
    "    }\n",
    "\n",
    "    public override void Work()\n",
    "    {\n",
    "        Console.WriteLine($\"Дизайнер {Name} работает над дизайн-проектом №1\");\n",
    "    }\n",
    "\n",
    "    public override void Display()\n",
    "    {\n",
    "        Console.WriteLine($\"{GetInfo()}, Стиль дизайна: {DesignStyle}\");\n",
    "    }\n",
    "\n",
    "}\n",
    "\n",
    "Employee first = new Manager(\"Иван\", 34, 250000, 30);\n",
    "Employee second = new Developer(\"Василий\", 27, 120000, \"Back-End\");\n",
    "Employee third = new Designer(\"Ксения\", 25 , 150000, \"Стиль Аниме\");\n",
    "\n",
    "first.Display(); first.Work();\n",
    "second.Display(); second.TakeVacation();\n",
    "third.Display(); third.Work();"
   ]
  }
 ],
 "metadata": {
  "kernelspec": {
   "display_name": ".NET (C#)",
   "language": "C#",
   "name": ".net-csharp"
  },
  "polyglot_notebook": {
   "kernelInfo": {
    "defaultKernelName": "csharp",
    "items": [
     {
      "aliases": [],
      "languageName": "csharp",
      "name": "csharp"
     }
    ]
   }
  }
 },
 "nbformat": 4,
 "nbformat_minor": 2
}
